{
 "cells": [
  {
   "cell_type": "code",
   "execution_count": 1,
   "metadata": {},
   "outputs": [
    {
     "name": "stdout",
     "output_type": "stream",
     "text": [
      "Welcome to JupyROOT 6.26/04\n"
     ]
    },
    {
     "name": "stderr",
     "output_type": "stream",
     "text": [
      "/global/homes/r/ricardom/.conda/envs/root_env/lib/python3.10/site-packages/ROOT/_facade.py:153: TqdmWarning: IProgress not found. Please update jupyter and ipywidgets. See https://ipywidgets.readthedocs.io/en/stable/user_install.html\n",
      "  return _orig_ihook(name, *args, **kwds)\n"
     ]
    }
   ],
   "source": [
    "import ROOT\n",
    "import torch\n",
    "import numpy as np\n",
    "import matplotlib.pyplot as plt\n",
    "import tqdm\n",
    "import torch.nn as nn\n",
    "import torchvision\n",
    "from sklearn.model_selection import train_test_split\n",
    "import pandas as pd"
   ]
  },
  {
   "cell_type": "code",
   "execution_count": 2,
   "metadata": {},
   "outputs": [],
   "source": [
    "#construct the model\n",
    "class custom1(nn.Module):\n",
    "    def __init__(self, in_dim) -> None:\n",
    "        super().__init__()\n",
    "        self.input = nn.Linear(in_dim, 100)\n",
    "        self.layer0 = nn.Linear(100, 75)\n",
    "        self.layer1 = nn.Linear(75,75)\n",
    "        self.layer2 = nn.Linear(75,50)\n",
    "        self.output = nn.Linear(50, 2)\n",
    "\n",
    "    def forward(self, x):\n",
    "        x = nn.ReLU()(self.input(x))\n",
    "        x = nn.Tanh()(self.layer0(x))\n",
    "        x = nn.ReLU()(self.layer1(x))\n",
    "        x = nn.ReLU()(self.layer2(x))\n",
    "        output = self.output(x)\n",
    "        return output\n"
   ]
  },
  {
   "cell_type": "code",
   "execution_count": 3,
   "metadata": {},
   "outputs": [],
   "source": [
    "#creating dataset for training\n",
    "\n",
    "\n",
    "transform = torchvision.transforms.Compose(\n",
    "    [torchvision.transforms.ToTensor(),\n",
    "     torchvision.transforms.RandomHorizontalFlip]\n",
    ")\n",
    "\n",
    "b_jet = (pd.read_csv(\"~/Week3_sample/b_jet.csv\")).to_numpy()\n",
    "c_jet = (pd.read_csv(\"~/Week3_sample/c_jet.csv\")).to_numpy()\n",
    "data_X = np.concatenate((b_jet, c_jet)) #data\n",
    "#creating label for c_jet and b_jet: c -> 1, b -> 0\n",
    "b_label = np.zeros((b_jet.shape[0]))\n",
    "c_label = np.ones((c_jet.shape[0]))\n",
    "data_y = np.concatenate((b_label, c_label)) #label for data\n",
    "#split train and validation set:\n",
    "X_train, X_vali, y_train, y_vali = train_test_split(data_X, data_y, test_size = 0.1, random_state=114514)\n",
    "#dataset for pytorch\n",
    "dataset_train = torch.utils.data.TensorDataset(torch.from_numpy(X_train), torch.from_numpy(y_train))\n",
    "dataset_vali = torch.utils.data.TensorDataset(torch.from_numpy(X_vali), torch.from_numpy(y_vali))\n",
    "#dataloader = torch.utils.data.DataLoader(dataset, batch_size = 10, shuffle = True)"
   ]
  },
  {
   "cell_type": "code",
   "execution_count": 12,
   "metadata": {},
   "outputs": [
    {
     "name": "stdout",
     "output_type": "stream",
     "text": [
      "0.17692644343402728 0.8230735565659727\n"
     ]
    }
   ],
   "source": [
    "print(c_jet.shape[0]/(b_jet.shape[0]+c_jet.shape[0]), b_jet.shape[0]/(b_jet.shape[0]+c_jet.shape[0]))"
   ]
  },
  {
   "cell_type": "code",
   "execution_count": 17,
   "metadata": {},
   "outputs": [
    {
     "name": "stdout",
     "output_type": "stream",
     "text": [
      "device: cuda\n"
     ]
    },
    {
     "data": {
      "application/vnd.jupyter.widget-view+json": {
       "model_id": "b77708457de5489ea52bd7bccbbaecbc",
       "version_major": 2,
       "version_minor": 0
      },
      "text/plain": [
       "  0%|          | 0/3914 [00:00<?, ?batch/s]"
      ]
     },
     "metadata": {},
     "output_type": "display_data"
    },
    {
     "name": "stdout",
     "output_type": "stream",
     "text": [
      "Finished Epoch 1 , training loss: 0.43215022372785244\n",
      "train accu: 0.7761142006960269\n",
      "vali accu: 0.7759113801452785\n"
     ]
    },
    {
     "data": {
      "application/vnd.jupyter.widget-view+json": {
       "model_id": "12d8e90bf4524eecb55c54628ca57666",
       "version_major": 2,
       "version_minor": 0
      },
      "text/plain": [
       "  0%|          | 0/3914 [00:00<?, ?batch/s]"
      ]
     },
     "metadata": {},
     "output_type": "display_data"
    },
    {
     "ename": "KeyboardInterrupt",
     "evalue": "",
     "output_type": "error",
     "traceback": [
      "\u001b[0;31m---------------------------------------------------------------------------\u001b[0m",
      "\u001b[0;31mKeyboardInterrupt\u001b[0m                         Traceback (most recent call last)",
      "\u001b[1;32m/home/rzmo0924/pi2_charm_tag/custom_proto.ipynb Cell 5\u001b[0m in \u001b[0;36m<cell line: 19>\u001b[0;34m()\u001b[0m\n\u001b[1;32m     <a href='vscode-notebook-cell://wsl%2Bubuntu-20.04/home/rzmo0924/pi2_charm_tag/custom_proto.ipynb#ch0000004vscode-remote?line=22'>23</a>\u001b[0m optimizer\u001b[39m.\u001b[39mzero_grad()\n\u001b[1;32m     <a href='vscode-notebook-cell://wsl%2Bubuntu-20.04/home/rzmo0924/pi2_charm_tag/custom_proto.ipynb#ch0000004vscode-remote?line=23'>24</a>\u001b[0m y \u001b[39m=\u001b[39m y\u001b[39m.\u001b[39mtype(torch\u001b[39m.\u001b[39mLongTensor)\n\u001b[0;32m---> <a href='vscode-notebook-cell://wsl%2Bubuntu-20.04/home/rzmo0924/pi2_charm_tag/custom_proto.ipynb#ch0000004vscode-remote?line=24'>25</a>\u001b[0m X, y \u001b[39m=\u001b[39m X\u001b[39m.\u001b[39;49mfloat()\u001b[39m.\u001b[39;49mto(device), y\u001b[39m.\u001b[39mto(device)\n\u001b[1;32m     <a href='vscode-notebook-cell://wsl%2Bubuntu-20.04/home/rzmo0924/pi2_charm_tag/custom_proto.ipynb#ch0000004vscode-remote?line=25'>26</a>\u001b[0m prediction \u001b[39m=\u001b[39m model(X)\n\u001b[1;32m     <a href='vscode-notebook-cell://wsl%2Bubuntu-20.04/home/rzmo0924/pi2_charm_tag/custom_proto.ipynb#ch0000004vscode-remote?line=26'>27</a>\u001b[0m loss \u001b[39m=\u001b[39m criterion(prediction, y)\n",
      "\u001b[0;31mKeyboardInterrupt\u001b[0m: "
     ]
    }
   ],
   "source": [
    "device = torch.device(\"cuda\" if torch.cuda.is_available() else \"cpu\")\n",
    "print(\"device:\", device)\n",
    "\n",
    "#set training hyperparameter for training:\n",
    "epochs = 5\n",
    "batch_size = 1000\n",
    "learning_rate = 0.01\n",
    "\n",
    "num_features = 2 #for this prototyping NN, only use pb and pc as the input features\n",
    "model = custom1(num_features).to(device)\n",
    "optimizer = torch.optim.SGD(model.parameters(), lr = learning_rate)\n",
    "criterion = nn.CrossEntropyLoss(weight = torch.tensor([0.21, 1], device=device))\n",
    "dataloader_train = torch.utils.data.DataLoader(dataset_train, batch_size = batch_size, shuffle =True)\n",
    "dataloader_vali = torch.utils.data.DataLoader(dataset_vali, batch_size = batch_size, shuffle =True)\n",
    "\n",
    "train_accu_lst, vali_accu_lst = [], []\n",
    "train_loss_lst, vali_loss_lst = [], []\n",
    "model.train()\n",
    "for epoch in range(epochs):\n",
    "    model.train()\n",
    "    train_losses = []\n",
    "    for X, y in tqdm.notebook.tqdm(dataloader_train, unit= \"batch\"):\n",
    "        optimizer.zero_grad()\n",
    "        y = y.type(torch.LongTensor)\n",
    "        X, y = X.float().to(device), y.to(device)\n",
    "        prediction = model(X)\n",
    "        loss = criterion(prediction, y)\n",
    "        #try to reweight the vector:\n",
    "\n",
    "        loss.backward()\n",
    "        optimizer.step()\n",
    "        train_losses.append(loss.item())\n",
    "    mean_loss = np.mean(train_losses)\n",
    "    train_loss_lst.append(mean_loss)\n",
    "    print(\"Finished Epoch\", epoch+1, \", training loss:\", mean_loss)\n",
    "\n",
    "    #training accuracy\n",
    "    with torch.no_grad():\n",
    "        model.eval() #evaluation mode\n",
    "        accu_list = []\n",
    "        for train_data in dataloader_train:\n",
    "            X, y = train_data[0], train_data[1]\n",
    "            y = y.type(torch.LongTensor)\n",
    "            X, y = X.float().to(device), y.to(device)\n",
    "            \n",
    "            prediction = model(X)\n",
    "\n",
    "            _, prediction = torch.max(prediction.data, 1)\n",
    "            accu = (prediction == y).sum().item()\n",
    "            accu_list.append(accu/y.size(0))\n",
    "        model.train()\n",
    "        train_accu = np.mean(accu_list)\n",
    "        print(\"train accu:\", train_accu)\n",
    "        train_accu_lst.append(train_accu)\n",
    "\n",
    "    #validation accuracy\n",
    "    with torch.no_grad():\n",
    "        model.eval()\n",
    "        #Calculate the validation accuray\n",
    "        accu_list = []\n",
    "        validation_losses = []\n",
    "        for vali_data in dataloader_vali:\n",
    "            x, y = vali_data[0], vali_data[1]\n",
    "            y = y.type(torch.LongTensor)\n",
    "            x, y = x.float().to(device), y.to(device)\n",
    "            \n",
    "            prediction = model(x)\n",
    "            loss = criterion(prediction, y)\n",
    "\n",
    "            _, prediction = torch.max(prediction.data, 1)\n",
    "            accu = (prediction == y).sum().item()\n",
    "            accu_list.append(accu/y.size(0))\n",
    "            validation_losses.append(loss.item())\n",
    "        model.train()\n",
    "        mean_loss = np.mean(validation_losses)\n",
    "        vali_loss_lst.append(mean_loss)\n",
    "\n",
    "        vali_accu = np.mean(accu_list)\n",
    "        print(\"vali accu:\", vali_accu)\n",
    "        vali_accu_lst.append(vali_accu)"
   ]
  }
 ],
 "metadata": {
  "kernelspec": {
   "display_name": "Python 3.10.5 64-bit ('root_env')",
   "language": "python",
   "name": "python3"
  },
  "language_info": {
   "codemirror_mode": {
    "name": "ipython",
    "version": 3
   },
   "file_extension": ".py",
   "mimetype": "text/x-python",
   "name": "python",
   "nbconvert_exporter": "python",
   "pygments_lexer": "ipython3",
   "version": "3.10.5"
  },
  "orig_nbformat": 4,
  "vscode": {
   "interpreter": {
    "hash": "19d2bed8d0a95fafe23d8b036c91c8a94d42b0852094fae8a25cd43f7ab2af28"
   }
  }
 },
 "nbformat": 4,
 "nbformat_minor": 2
}

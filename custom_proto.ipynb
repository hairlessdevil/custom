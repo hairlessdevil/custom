{
 "cells": [
  {
   "cell_type": "code",
   "execution_count": 1,
   "metadata": {},
   "outputs": [
    {
     "name": "stdout",
     "output_type": "stream",
     "text": [
      "Welcome to JupyROOT 6.26/04\n"
     ]
    }
   ],
   "source": [
    "import ROOT\n",
    "import torch\n",
    "import numpy as np\n",
    "import matplotlib.pyplot as plt\n",
    "import tqdm\n",
    "import torch.nn as nn\n",
    "import torchvision\n",
    "from sklearn.model_selection import train_test_split\n",
    "import pandas as pd"
   ]
  },
  {
   "cell_type": "code",
   "execution_count": 2,
   "metadata": {},
   "outputs": [],
   "source": [
    "#construct the model\n",
    "class custom1(nn.Module):\n",
    "    def __init__(self, in_dim) -> None:\n",
    "        super().__init__()\n",
    "        self.input = nn.Linear(in_dim, 100)\n",
    "        self.layer0 = nn.Linear(100, 75)\n",
    "        self.layer1 = nn.Linear(75,75)\n",
    "        self.layer2 = nn.Linear(75,50)\n",
    "        self.output = nn.Linear(50, 1)\n",
    "\n",
    "    def forward(self, x):\n",
    "        x = nn.ReLU()(self.input(x))\n",
    "        x = nn.Tanh()(self.layer0(x))\n",
    "        x = nn.ReLU()(self.layer1(x))\n",
    "        x = nn.ReLU()(self.layer2(x))\n",
    "        output = nn.Sigmoid()(self.output(x))\n",
    "        return output\n"
   ]
  },
  {
   "cell_type": "code",
   "execution_count": 3,
   "metadata": {},
   "outputs": [],
   "source": [
    "#creating dataset for training\n",
    "\n",
    "\n",
    "transform = torchvision.transforms.Compose(\n",
    "    [torchvision.transforms.ToTensor(),\n",
    "     torchvision.transforms.RandomHorizontalFlip]\n",
    ")\n",
    "\n",
    "b_jet = (pd.read_csv(\"~/Week3_sample/b_jet.csv\")).to_numpy()\n",
    "c_jet = (pd.read_csv(\"~/Week3_sample/c_jet.csv\")).to_numpy()\n",
    "data_X = np.concatenate((b_jet, c_jet)) #data\n",
    "#creating label for c_jet and b_jet: c -> 1, b -> 0\n",
    "b_label = np.zeros((b_jet.shape[0]))\n",
    "c_label = np.ones((c_jet.shape[0]))\n",
    "data_y = np.concatenate((b_label, c_label)) #label for data\n",
    "#split train and validation set:\n",
    "X_train, X_vali, y_train, y_vali = train_test_split(data_X, data_y, test_size = 0.1, random_state=114514)\n",
    "#dataset for pytorch\n",
    "dataset_train = torch.utils.data.TensorDataset(torch.from_numpy(X_train), torch.from_numpy(y_train))\n",
    "dataset_vali = torch.utils.data.TensorDataset(torch.from_numpy(X_vali), torch.from_numpy(y_vali))\n",
    "#dataloader = torch.utils.data.DataLoader(dataset, batch_size = 10, shuffle = True)"
   ]
  },
  {
   "cell_type": "code",
   "execution_count": 4,
   "metadata": {},
   "outputs": [
    {
     "name": "stdout",
     "output_type": "stream",
     "text": [
      "(434826, 2) (434826,)\n"
     ]
    }
   ],
   "source": [
    "print(X_vali.shape, y_vali.shape)"
   ]
  },
  {
   "cell_type": "code",
   "execution_count": 5,
   "metadata": {},
   "outputs": [],
   "source": [
    "#recompute baseline performance\n",
    "y_baseline = y_vali.reshape((y_vali.shape[0], 1))\n",
    "b_jet = X_vali[y_baseline[:, 0] == 0]\n",
    "c_jet = X_vali[y_baseline[:, 0] == 1]\n",
    "\n",
    "#Calculate ATLAS_score(ln(pc/pb))\n",
    "b_ATLAS = np.log(np.divide(b_jet[:,1], b_jet[:,0]))\n",
    "c_ATLAS = np.log(np.divide(c_jet[:,1], c_jet[:,0]))\n",
    "\n",
    "#Calculate CMS_score(pc/(pc+pb))\n",
    "b_CMS = np.divide(b_jet[:,1], b_jet[:, 0] + b_jet[:, 1])\n",
    "c_CMS = np.divide(c_jet[:,1], c_jet[:, 0] + c_jet[:, 1])\n",
    "\n",
    "b_len, c_len = b_jet.shape[0], c_jet.shape[0] #The total number of each jet\n",
    "\n",
    "#calculate efficiency for two discriminant method\n",
    "#ATLAS-score\n",
    "thresh_ATLAS = np.linspace(-5, 4, 50)\n",
    "b_eff_ATLAS = np.array([np.count_nonzero((b_ATLAS > thresh)) for thresh in thresh_ATLAS])/b_len\n",
    "c_eff_ATLAS = np.array([np.count_nonzero((c_ATLAS > thresh)) for thresh in thresh_ATLAS])/c_len\n",
    "b_rej_ATLAS = 1/b_eff_ATLAS\n",
    "#CMS-score\n",
    "thresh_CMS = np.linspace(0.01, 0.99, 50)\n",
    "b_eff_CMS = np.array([np.count_nonzero((b_CMS > thresh)) for thresh in thresh_CMS])/b_len\n",
    "c_eff_CMS = np.array([np.count_nonzero((c_CMS > thresh)) for thresh in thresh_CMS])/c_len\n",
    "b_rej_CMS = 1/b_eff_CMS"
   ]
  },
  {
   "cell_type": "code",
   "execution_count": 6,
   "metadata": {},
   "outputs": [
    {
     "name": "stdout",
     "output_type": "stream",
     "text": [
      "0.17669366597213598 0.823306334027864\n"
     ]
    }
   ],
   "source": [
    "print(c_jet.shape[0]/(b_jet.shape[0]+c_jet.shape[0]), b_jet.shape[0]/(b_jet.shape[0]+c_jet.shape[0]))\n"
   ]
  },
  {
   "cell_type": "code",
   "execution_count": 22,
   "metadata": {},
   "outputs": [
    {
     "name": "stdout",
     "output_type": "stream",
     "text": [
      "device: cuda\n"
     ]
    },
    {
     "data": {
      "application/vnd.jupyter.widget-view+json": {
       "model_id": "052392f00fea4f8faf06aeba189408c7",
       "version_major": 2,
       "version_minor": 0
      },
      "text/plain": [
       "  0%|          | 0/15287 [00:00<?, ?batch/s]"
      ]
     },
     "metadata": {},
     "output_type": "display_data"
    },
    {
     "name": "stdout",
     "output_type": "stream",
     "text": [
      "Finished Epoch 1 , training loss: 0.13464158985578828\n"
     ]
    }
   ],
   "source": [
    "device = torch.device(\"cuda\" if torch.cuda.is_available() else \"cpu\")\n",
    "print(\"device:\", device)\n",
    "\n",
    "#set training hyperparameter for training:\n",
    "epochs = 1\n",
    "batch_size = 256\n",
    "learning_rate = 3e-3\n",
    "\n",
    "num_features = 2 #for this prototyping NN, only use pb and pc as the input features\n",
    "model = custom1(num_features).to(device)\n",
    "# optimizer = torch.optim.SGD(model.parameters(), lr = learning_rate)\n",
    "optimizer = torch.optim.Adam(model.parameters(), lr = learning_rate)\n",
    "#criterion = nn.BCELoss()\n",
    "dataloader_train = torch.utils.data.DataLoader(dataset_train, batch_size = batch_size, shuffle =True)\n",
    "dataloader_vali = torch.utils.data.DataLoader(dataset_vali, batch_size = batch_size, shuffle =True) \n",
    "\n",
    "train_accu_lst, vali_accu_lst = [], []\n",
    "train_loss_lst, vali_loss_lst = [], []\n",
    "model.train()\n",
    "for epoch in range(epochs):\n",
    "    model.train()\n",
    "    train_losses = []\n",
    "    for X, y in tqdm.notebook.tqdm(dataloader_train, unit= \"batch\"):\n",
    "        \n",
    "        y = y.type(torch.FloatTensor)\n",
    "        X, y = X.float().to(device), y.to(device)\n",
    "        y = y.view(y.size(0), -1)\n",
    "        prediction = model(X)\n",
    "        #reconstruct criterion based on each data label\n",
    "        weight = torch.clone(y)\n",
    "        weight[weight[:, 0] == 0] = 0.21\n",
    "        criterion = nn.BCELoss(weight = weight)\n",
    "        loss = criterion(prediction, y)\n",
    "\n",
    "        optimizer.zero_grad()\n",
    "        loss.backward()\n",
    "        optimizer.step()\n",
    "        train_losses.append(loss.item())\n",
    "    mean_loss = np.mean(train_losses)\n",
    "    train_loss_lst.append(mean_loss)\n",
    "    print(\"Finished Epoch\", epoch+1, \", training loss:\", mean_loss)\n",
    "    \"\"\"\n",
    "    #training accuracy\n",
    "    with torch.no_grad():\n",
    "        model.eval() #evaluation mode\n",
    "        accu_list = []\n",
    "        for train_data in dataloader_train:\n",
    "            X, y = train_data[0], train_data[1]\n",
    "            y = y.type(torch.FloatTensor)\n",
    "            X, y = X.float().to(device), y.to(device)\n",
    "            y = y.view(y.size(0), -1)\n",
    "            prediction = model(X)\n",
    "\n",
    "            _, prediction = torch.max(prediction.data, 1)\n",
    "            accu = (prediction == y).sum().item()\n",
    "            accu_list.append(accu/y.size(0))\n",
    "        model.train()\n",
    "        train_accu = np.mean(accu_list)\n",
    "        print(\"train accu:\", train_accu)\n",
    "        train_accu_lst.append(train_accu)\n",
    "\n",
    "    #validation accuracy\n",
    "    with torch.no_grad():\n",
    "        model.eval()\n",
    "        #Calculate the validation accuray\n",
    "        accu_list = []\n",
    "        validation_losses = []\n",
    "        for vali_data in dataloader_vali:\n",
    "            x, y = vali_data[0], vali_data[1]\n",
    "            y = y.type(torch.LongTensor)\n",
    "            x, y = x.float().to(device), y.to(device)\n",
    "            y = y.view(y.size(0), -1)\n",
    "            prediction = model(x)\n",
    "            loss = criterion(prediction, y)\n",
    "\n",
    "            _, prediction = torch.max(prediction.data, 1)\n",
    "            accu = (prediction == y).sum().item()\n",
    "            accu_list.append(accu/y.size(0))\n",
    "            validation_losses.append(loss.item())\n",
    "        model.train()\n",
    "        mean_loss = np.mean(validation_losses)\n",
    "        vali_loss_lst.append(mean_loss)\n",
    "\n",
    "        vali_accu = np.mean(accu_list)\n",
    "        print(\"vali accu:\", vali_accu)\n",
    "        vali_accu_lst.append(vali_accu)\n",
    "        \"\"\""
   ]
  },
  {
   "cell_type": "code",
   "execution_count": 35,
   "metadata": {},
   "outputs": [
    {
     "name": "stdout",
     "output_type": "stream",
     "text": [
      "device: cuda\n"
     ]
    },
    {
     "data": {
      "application/vnd.jupyter.widget-view+json": {
       "model_id": "68a871e1ec814930adff0a753d88790e",
       "version_major": 2,
       "version_minor": 0
      },
      "text/plain": [
       "  0%|          | 0/15287 [00:00<?, ?batch/s]"
      ]
     },
     "metadata": {},
     "output_type": "display_data"
    },
    {
     "name": "stdout",
     "output_type": "stream",
     "text": [
      "Finished Epoch 1 , training loss: 0.2919790619641763\n"
     ]
    },
    {
     "data": {
      "application/vnd.jupyter.widget-view+json": {
       "model_id": "30fe854812404c929427b8cafbd7cfbd",
       "version_major": 2,
       "version_minor": 0
      },
      "text/plain": [
       "  0%|          | 0/15287 [00:00<?, ?batch/s]"
      ]
     },
     "metadata": {},
     "output_type": "display_data"
    },
    {
     "name": "stdout",
     "output_type": "stream",
     "text": [
      "Finished Epoch 2 , training loss: 0.2908310797137385\n"
     ]
    },
    {
     "data": {
      "application/vnd.jupyter.widget-view+json": {
       "model_id": "31311c8e780a4163bd9b3b0e021febd3",
       "version_major": 2,
       "version_minor": 0
      },
      "text/plain": [
       "  0%|          | 0/15287 [00:00<?, ?batch/s]"
      ]
     },
     "metadata": {},
     "output_type": "display_data"
    },
    {
     "name": "stdout",
     "output_type": "stream",
     "text": [
      "Finished Epoch 3 , training loss: 0.2906988406410209\n"
     ]
    }
   ],
   "source": [
    "#training without reweighting\n",
    "device = torch.device(\"cuda\" if torch.cuda.is_available() else \"cpu\")\n",
    "print(\"device:\", device)\n",
    "\n",
    "#set training hyperparameter for training:\n",
    "epochs = 3\n",
    "batch_size = 256\n",
    "learning_rate = 3e-3\n",
    "\n",
    "num_features = 2 #for this prototyping NN, only use pb and pc as the input features\n",
    "modelw = custom1(num_features).to(device)\n",
    "optimizerw = torch.optim.Adam(modelw.parameters(), lr = learning_rate)\n",
    "#criterion = nn.CrossEntropyLoss(weight = torch.tensor([0.21, 1], device=device), reduction='none')\n",
    "criterion = nn.BCELoss()\n",
    "dataloader_train = torch.utils.data.DataLoader(dataset_train, batch_size = batch_size, shuffle =True)\n",
    "dataloader_vali = torch.utils.data.DataLoader(dataset_vali, batch_size = batch_size, shuffle =True)\n",
    "\n",
    "train_accu_lst, vali_accu_lst = [], []\n",
    "train_loss_lst, vali_loss_lst = [], []\n",
    "modelw.train()\n",
    "for epoch in range(epochs):\n",
    "    modelw.train()\n",
    "    train_losses = []\n",
    "    for X, y in tqdm.notebook.tqdm(dataloader_train, unit= \"batch\"):\n",
    "        optimizerw.zero_grad()\n",
    "        y = y.type(torch.FloatTensor)\n",
    "        X, y = X.float().to(device), y.to(device)\n",
    "        y = y.view(y.size(0), -1)\n",
    "        prediction = modelw(X)\n",
    "        #reconstruct criterion based on each data label\n",
    "        weight = torch.clone(y)\n",
    "        weight[weight[:, 0] == 0] = 0.21\n",
    "        #criterion = nn.BCELoss(weight = weight)\n",
    "        loss = criterion(prediction, y)\n",
    "\n",
    "        loss.backward()\n",
    "        optimizerw.step()\n",
    "        train_losses.append(loss.item())\n",
    "    mean_loss = np.mean(train_losses)\n",
    "    train_loss_lst.append(mean_loss)\n",
    "    print(\"Finished Epoch\", epoch+1, \", training loss:\", mean_loss)"
   ]
  },
  {
   "cell_type": "markdown",
   "metadata": {},
   "source": [
    "### Draw roc curve to see the performance"
   ]
  },
  {
   "cell_type": "code",
   "execution_count": 36,
   "metadata": {},
   "outputs": [
    {
     "name": "stdout",
     "output_type": "stream",
     "text": [
      "(434826, 2)\n"
     ]
    }
   ],
   "source": [
    "pred_lst = []\n",
    "with torch.no_grad():\n",
    "    model.eval()\n",
    "    for vali_data in dataloader_vali:\n",
    "        X, y = vali_data[0], vali_data[1]\n",
    "        y = y.type(torch.FloatTensor)\n",
    "        X, y = X.float().to(device), y.to(device)\n",
    "        y = y.view(y.size(0), -1)\n",
    "        prediction = model(X)\n",
    "        prediction = prediction.cpu().detach().numpy()\n",
    "        y = y.cpu().detach().numpy()\n",
    "        result = np.hstack((prediction,y))\n",
    "        pred_lst.append(result)\n",
    "    model.train()\n",
    "\n",
    "pred_label = np.concatenate(pred_lst)\n",
    "print(pred_label.shape)\n",
    "    \n",
    "        "
   ]
  },
  {
   "cell_type": "code",
   "execution_count": 32,
   "metadata": {},
   "outputs": [
    {
     "name": "stdout",
     "output_type": "stream",
     "text": [
      "(434826, 2)\n"
     ]
    }
   ],
   "source": [
    "#prediction with model without training\n",
    "predw_lst = []\n",
    "with torch.no_grad():\n",
    "    modelw.eval()\n",
    "    for vali_data in dataloader_vali:\n",
    "        X, y = vali_data[0], vali_data[1]\n",
    "        y = y.type(torch.FloatTensor)\n",
    "        X, y = X.float().to(device), y.to(device)\n",
    "        y = y.view(y.size(0), -1)\n",
    "        prediction = modelw(X)\n",
    "        prediction = prediction.cpu().detach().numpy()\n",
    "        y = y.cpu().detach().numpy()\n",
    "        result = np.hstack((prediction,y))\n",
    "        predw_lst.append(result)\n",
    "    modelw.train()\n",
    "\n",
    "predw_label = np.concatenate(predw_lst)\n",
    "print(predw_label.shape)\n",
    "    "
   ]
  },
  {
   "cell_type": "code",
   "execution_count": 28,
   "metadata": {},
   "outputs": [
    {
     "name": "stdout",
     "output_type": "stream",
     "text": [
      "(256, 2)\n"
     ]
    }
   ],
   "source": [
    "predw_lst, pred_lst = [],[]\n",
    "with torch.no_grad():\n",
    "    modelw.eval()\n",
    "    model.eval()\n",
    "    for vali_data in dataloader_vali:\n",
    "        X, y = vali_data[0], vali_data[1]\n",
    "        y = y.type(torch.FloatTensor)\n",
    "        X, y = X.float().to(device), y.to(device)\n",
    "        y = y.view(y.size(0), -1)\n",
    "        prediction = modelw(X)\n",
    "        prediction = prediction.cpu().detach().numpy()\n",
    "        y = y.cpu().detach().numpy()\n",
    "\n",
    "        pred = model(X)\n",
    "        pred = pred.cpu().detach().numpy()\n",
    "        result_w = np.hstack((prediction, y))\n",
    "        result = np.hstack((pred, y))\n",
    "        predw_lst.append(result_w)\n",
    "        pred_lst.append(result)\n",
    "        break\n",
    "\n",
    "predw_label = np.array(predw_lst).squeeze()\n",
    "pred_label = np.array(pred_lst).squeeze()\n",
    "print(predw_label.shape)"
   ]
  },
  {
   "cell_type": "code",
   "execution_count": 37,
   "metadata": {},
   "outputs": [
    {
     "name": "stdout",
     "output_type": "stream",
     "text": [
      "0.8814636 0.00046681621 0.8846539 0.00048034097\n"
     ]
    }
   ],
   "source": [
    "b_CUSTOM1w = predw_label[predw_label[:, 1] == 0]\n",
    "c_CUSTOM1w = predw_label[predw_label[:, 1] == 1]\n",
    "b_len, c_len = b_CUSTOM1w.shape[0], c_CUSTOM1w.shape[0]\n",
    "print(np.max(b_CUSTOM1w[:,0]), np.min(b_CUSTOM1w[:,0]), np.max(c_CUSTOM1w[:,0]), np.min(c_CUSTOM1w[:,0]))\n",
    "\n",
    "thresh_CUSTOM1w = np.linspace(0.00046, 0.881, 100)\n",
    "b_eff_CUSTOM1w = np.array([np.count_nonzero((b_CUSTOM1w[:, 0] > thresh)) for thresh in thresh_CUSTOM1w])/b_len\n",
    "c_eff_CUSTOM1w = np.array([np.count_nonzero((c_CUSTOM1w[:, 0] > thresh)) for thresh in thresh_CUSTOM1w])/c_len\n",
    "b_rej_CUSTOM1w = 1/b_eff_CUSTOM1w"
   ]
  },
  {
   "cell_type": "code",
   "execution_count": 39,
   "metadata": {},
   "outputs": [
    {
     "name": "stdout",
     "output_type": "stream",
     "text": [
      "0.966071 0.0016825517 0.96636117 0.0017264845\n"
     ]
    },
    {
     "data": {
      "image/png": "[encoded data removed]",
      "text/plain": [
       "<Figure size 800x600 with 1 Axes>"
      ]
     },
     "metadata": {
      "needs_background": "light"
     },
     "output_type": "display_data"
    }
   ],
   "source": [
    "b_CUSTOM1 = pred_label[pred_label[:, 1] == 0]\n",
    "c_CUSTOM1 = pred_label[pred_label[:, 1] == 1]\n",
    "b_len, c_len = b_CUSTOM1.shape[0], c_CUSTOM1.shape[0]\n",
    "print(np.max(b_CUSTOM1[:,0]), np.min(b_CUSTOM1[:,0]), np.max(c_CUSTOM1[:,0]), np.min(c_CUSTOM1[:,0]))\n",
    "\n",
    "thresh_CUSTOM1 = np.linspace(0.0016, 0.966, 100)\n",
    "b_eff_CUSTOM1 = np.array([np.count_nonzero((b_CUSTOM1[:, 0] > thresh)) for thresh in thresh_CUSTOM1])/b_len\n",
    "c_eff_CUSTOM1 = np.array([np.count_nonzero((c_CUSTOM1[:, 0] > thresh)) for thresh in thresh_CUSTOM1])/c_len\n",
    "b_rej_CUSTOM1 = 1/b_eff_CUSTOM1\n",
    "\n",
    "\n",
    "plt.figure(figsize=(8,6), dpi=100)\n",
    "plt.plot(c_eff_CUSTOM1, b_rej_CUSTOM1, label = \"CUSTOM1 with reweighting\")\n",
    "plt.plot(c_eff_CUSTOM1w, b_rej_CUSTOM1w, label = \"CUSTOM1 without reweighting\")\n",
    "#plt.plot(c_eff_ATLAS, b_rej_ATLAS, label = \"ATLAS-like\")\n",
    "#plt.plot(c_eff_CMS, b_rej_CMS, label = \"CMS-like\")\n",
    "plt.yscale(\"log\", base = 10)\n",
    "plt.xlabel(\"c-jet efficiency\")\n",
    "plt.ylabel(\"b-jet rejection\")\n",
    "plt.title(\"ROC curve for c-tagging CUSTOM with/without reweighting\")\n",
    "plt.legend()\n",
    "plt.show()"
   ]
  },
  {
   "cell_type": "code",
   "execution_count": null,
   "metadata": {},
   "outputs": [],
   "source": []
  }
 ],
 "metadata": {
  "kernelspec": {
   "display_name": "Python 3.10.5 ('root_env': conda)",
   "language": "python",
   "name": "python3"
  },
  "language_info": {
   "codemirror_mode": {
    "name": "ipython",
    "version": 3
   },
   "file_extension": ".py",
   "mimetype": "text/x-python",
   "name": "python",
   "nbconvert_exporter": "python",
   "pygments_lexer": "ipython3",
   "version": "3.10.5"
  },
  "orig_nbformat": 4,
  "vscode": {
   "interpreter": {
    "hash": "b1a144659389e648a5b957898c6efa89c76198ae1f30f3bf974c60560e4a9cdc"
   }
  }
 },
 "nbformat": 4,
 "nbformat_minor": 2
}
